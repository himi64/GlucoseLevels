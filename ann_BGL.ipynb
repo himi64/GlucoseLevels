{
 "cells": [
  {
   "cell_type": "markdown",
   "metadata": {},
   "source": [
    "# Blood Glucose Predicting"
   ]
  },
  {
   "cell_type": "markdown",
   "metadata": {},
   "source": [
    "## Model 1: Predicting Diabetes (Yes or No)"
   ]
  },
  {
   "cell_type": "code",
   "execution_count": null,
   "metadata": {
    "collapsed": true
   },
   "outputs": [],
   "source": [
    "# import packages\n",
    "import numpy as np\n",
    "import pandas as pd\n",
    "import matplotlib.pyplot as plt"
   ]
  },
  {
   "cell_type": "markdown",
   "metadata": {},
   "source": [
    "### Data Preprocessing"
   ]
  },
  {
   "cell_type": "code",
   "execution_count": null,
   "metadata": {
    "collapsed": true
   },
   "outputs": [],
   "source": [
    "# import dataset\n",
    "data = pd.read_csv(\"diabetes.csv\")\n",
    "diabetes = np.array(data) # convert to numpy array for slicing\n",
    "\n",
    "# split data into X and Y\n",
    "X = diabetes[:, 0:8]\n",
    "y = diabetes[:, 8]\n",
    "\n",
    "# split data into training and testing datasets\n",
    "from sklearn.model_selection import train_test_split\n",
    "X_train, X_test, y_train, y_test = train_test_split(X, y, \n",
    "                                                    test_size = 0.25, \n",
    "                                                    random_state=0)\n",
    "\n",
    "# feature scaling (required for ANN)\n",
    "from sklearn.preprocessing import MinMaxScaler\n",
    "from sklearn.preprocessing import StandardScaler\n",
    "sc = StandardScaler()\n",
    "X_train = sc.fit_transform(X_train)\n",
    "X_test = sc.fit_transform(X_test)"
   ]
  },
  {
   "cell_type": "markdown",
   "metadata": {},
   "source": [
    "### Build the model"
   ]
  },
  {
   "cell_type": "code",
   "execution_count": null,
   "metadata": {
    "collapsed": true
   },
   "outputs": [],
   "source": [
    "# import packages\n",
    "import keras\n",
    "from keras.models import Sequential\n",
    "from keras.layers import Dense\n",
    "\n",
    "# initialize the ANN\n",
    "classifier = Sequential()\n",
    "\n",
    "# add first layer (inputs)\n",
    "classifier.add(Dense(units = 8, \n",
    "                     kernel_initializer = 'uniform', \n",
    "                     activation = 'relu', \n",
    "                     input_dim = 8)) # 9 nodes in the hidden layer, 19 inputs \n",
    "                     #NB: (input nodes + output nodes) / 2 = units (# of nodes)\n",
    "\n",
    "# add second layer\n",
    "classifier.add(Dense(units = 8, \n",
    "                     kernel_initializer = 'uniform',\n",
    "                     activation = 'relu'))\n",
    "\n",
    "# add output layer (compare sigmoid and softmax functions)\n",
    "classifier.add(Dense(units=1,\n",
    "                     kernel_initializer = 'uniform',\n",
    "                     activation = 'sigmoid'))\n",
    "\n",
    "# compiling the ANN\n",
    "classifier.compile(optimizer = 'adam', \n",
    "                   loss = 'binary_crossentropy', \n",
    "                   metrics = ['accuracy'])\n",
    "\n",
    "# fit the ANN on the training & testing set\n",
    "classifier.fit(X_train, y_train, batch_size = 10, epochs = 100)"
   ]
  },
  {
   "cell_type": "markdown",
   "metadata": {},
   "source": [
    "### Making predictions and evaluating the model"
   ]
  },
  {
   "cell_type": "code",
   "execution_count": null,
   "metadata": {
    "collapsed": true
   },
   "outputs": [],
   "source": [
    "# Predicting the Test set results\n",
    "y_pred = classifier.predict(X_test) \n",
    "# gives prediction for each observation in test set\n",
    "# now in y_pred dataframe, it gives answer as true/false, rather than just probability\n",
    "\n",
    "# set threshold for diabetes where p(diabeties)>0.5 means you have diabetes (1)\n",
    "y_pred_bin = []\n",
    "for x in y_pred:\n",
    "    if x > 0.5:\n",
    "        y_pred_bin.append(1)\n",
    "    else: y_pred_bin.append(0)\n",
    "    \n",
    "# confusion matrix\n",
    "from sklearn.metrics import confusion_matrix\n",
    "\n",
    "cm = confusion_matrix(y_test, y_pred_bin)\n",
    "cm\n",
    "\n",
    "# accuracy\n",
    "(113+38)/(113+38+24+17)\n",
    "# 78.65%\n",
    "\n",
    "'''checking chance of diabetes for a new row: e.g. patient with:\n",
    "pregnant = 2\n",
    "plasma glucose = 100 \n",
    "Diastolic BP = 85mm Hg\n",
    "Triceps skin fold = 30mm   1. Number of times pregnant\n",
    "2 hr insulin = 0 mu U/ml\n",
    "BMI = 35\n",
    "Diabetes pedigree function = 0.8\n",
    "Age = 45 years\n",
    "'''\n",
    "sample_patient = sc.transform(np.array([[2,100,85,30,0,35,0.8,45]]))\n",
    "sample_pred = classifier.predict(sample_patient)"
   ]
  },
  {
   "cell_type": "markdown",
   "metadata": {},
   "source": [
    "## Model 2: Predicting plasma glucose levels"
   ]
  },
  {
   "cell_type": "markdown",
   "metadata": {},
   "source": [
    "### Data Preprocessing"
   ]
  },
  {
   "cell_type": "code",
   "execution_count": null,
   "metadata": {
    "collapsed": true
   },
   "outputs": [],
   "source": [
    "# import dataset\n",
    "data2 = pd.read_csv(\"diabetes2.csv\")\n",
    "diabetes2 = np.array(data2) # convert to numpy array for slicing\n",
    "\n",
    "# split data into X and Y\n",
    "X2 = diabetes2[:, 0:8]\n",
    "y2 = diabetes2[:, 8]\n",
    "\n",
    "\n",
    "# split data into training and testing datasets\n",
    "from sklearn.model_selection import train_test_split\n",
    "X2_train, X2_test, y2_train, y2_test = train_test_split(X2, y2, \n",
    "                                                    test_size = 0.25, \n",
    "                                                    random_state=0)\n",
    "\n",
    "# feature scaling (required for ANN)\n",
    "from sklearn.preprocessing import MinMaxScaler\n",
    "from sklearn.preprocessing import StandardScaler\n",
    "sc = StandardScaler()\n",
    "X2_train = sc.fit_transform(X2_train)\n",
    "X2_test = sc.fit_transform(X2_test)"
   ]
  },
  {
   "cell_type": "markdown",
   "metadata": {},
   "source": [
    "### Build the model"
   ]
  },
  {
   "cell_type": "code",
   "execution_count": null,
   "metadata": {
    "collapsed": true
   },
   "outputs": [],
   "source": [
    "# import packages\n",
    "import keras\n",
    "from keras.models import Sequential\n",
    "from keras.layers import Dense\n",
    "\n",
    "# initialize the ANN\n",
    "classifier2 = Sequential()\n",
    "\n",
    "# add first layer (inputs) - relu is best for unbounded\n",
    "classifier2.add(Dense(units = 8, \n",
    "                     kernel_initializer = 'uniform', \n",
    "                     activation = 'relu', \n",
    "                     input_dim = 8)) # 9 nodes in the hidden layer, 19 inputs \n",
    "                     #NB: (input nodes + output nodes) / 2 = units (# of nodes)\n",
    "\n",
    "# add second layer\n",
    "classifier2.add(Dense(units = 8, \n",
    "                     kernel_initializer = 'uniform',\n",
    "                     activation = 'relu'))\n",
    "\n",
    "# add third layer\n",
    "classifier2.add(Dense(units = 8, \n",
    "                     kernel_initializer = 'uniform',\n",
    "                     activation = 'relu'))\n",
    "\n",
    "# add output layer\n",
    "classifier2.add(Dense(units=1,\n",
    "                     kernel_initializer = 'uniform',\n",
    "                     activation = 'linear'))\n",
    "\n",
    "# compiling the ANN\n",
    "classifier2.compile(optimizer = 'adam', \n",
    "                   loss = 'mean_squared_logarithmic_error', \n",
    "                   metrics = ['accuracy'])\n",
    "\n",
    "# fit the ANN on the training & testing set\n",
    "classifier2.fit(X2_train, y2_train, batch_size = 10, epochs = 100)"
   ]
  },
  {
   "cell_type": "markdown",
   "metadata": {},
   "source": [
    "### Making predictions and evaluating the model"
   ]
  },
  {
   "cell_type": "code",
   "execution_count": null,
   "metadata": {
    "collapsed": true
   },
   "outputs": [],
   "source": [
    "# Predicting the Test set results\n",
    "y2_pred = classifier2.predict(X2_test)"
   ]
  },
  {
   "cell_type": "markdown",
   "metadata": {},
   "source": [
    "#### Clark Error Grid"
   ]
  },
  {
   "cell_type": "code",
   "execution_count": null,
   "metadata": {
    "collapsed": true
   },
   "outputs": [],
   "source": [
    "# build the plot grid\n",
    "# NB: predicted values must be on the Y axis\n",
    "from pylab import *\n",
    "import matplotlib.pyplot as plt\n",
    "plt.xlim(0,250)\n",
    "plt.ylim(0,250)\n",
    "plt.title('Clark Error Grid of Algorithm Accuracy')\n",
    "plt.xlabel('Actual Plasma Glucose Level')\n",
    "plt.ylabel('Predicted Plasma Glucose Level')\n",
    "\n",
    "fill([38.5,250,250,38.5], [0,0,198,32], 'b', alpha=0.2, edgecolor='r') #B\n",
    "fill([0,32,210,0], [38.5,38.5,250,250], 'b', alpha=0.2, edgecolor='r') #B\n",
    "\n",
    "fill([135,250,250,135], [38.5,38.5,100,100], 'c', alpha=0.5, edgecolor='g') #D\n",
    "fill([0,32,32,0], [38.5,38.5,100,100], 'c', alpha=0.5, edgecolor='g') #D\n",
    "\n",
    "fill([100,250,250,100], [0,0,38.5,38.5], 'b', alpha=0.4, edgecolor='r') #E\n",
    "fill([0,32,32,0], [100,100,250,250], 'b', alpha=0.4, edgecolor='r') #E\n",
    "\n",
    "fill([80,100,100], [0,0,38.5], 'b', alpha=0.2, edgecolor='r') #C\n",
    "fill([32,187.5,32], [100,250,250], 'b', alpha=0.2, edgecolor='r') #C\n",
    "\n",
    "# insert scatter points\n",
    "clark = plt.scatter(y2_test, y2_pred)"
   ]
  }
 ],
 "metadata": {
  "kernelspec": {
   "display_name": "Python 3",
   "language": "python",
   "name": "python3"
  },
  "language_info": {
   "codemirror_mode": {
    "name": "ipython",
    "version": 3
   },
   "file_extension": ".py",
   "mimetype": "text/x-python",
   "name": "python",
   "nbconvert_exporter": "python",
   "pygments_lexer": "ipython3",
   "version": "3.6.1"
  }
 },
 "nbformat": 4,
 "nbformat_minor": 2
}
